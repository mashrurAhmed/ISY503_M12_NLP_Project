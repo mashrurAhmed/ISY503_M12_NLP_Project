{
  "cells": [
    {
      "cell_type": "markdown",
      "metadata": {
        "id": "raB-9G8ahmO2"
      },
      "source": [
        "Sentiment Analysis using TensorFlow Keras"
      ]
    },
    {
      "cell_type": "markdown",
      "source": [
        "SECTION 1: Prepare data, train and save the model"
      ],
      "metadata": {
        "id": "Q_EzEhovI005"
      }
    },
    {
      "cell_type": "code",
      "source": [
        "# clean up\n",
        "! rm -rf ready\n",
        "! rm -rf prepare\n",
        "! rm -rf sorted_data_acl/"
      ],
      "metadata": {
        "id": "ZzZAI2rETpBW"
      },
      "execution_count": 1,
      "outputs": []
    },
    {
      "cell_type": "code",
      "execution_count": 2,
      "metadata": {
        "colab": {
          "base_uri": "https://localhost:8080/"
        },
        "id": "K2xnTRUNRfFE",
        "outputId": "52bf23be-06e9-4c8f-e5da-e420c8f1b289"
      },
      "outputs": [
        {
          "output_type": "stream",
          "name": "stdout",
          "text": [
            "--2022-08-25 06:47:40--  https://www.cs.jhu.edu/~mdredze/datasets/sentiment/domain_sentiment_data.tar.gz\n",
            "Resolving www.cs.jhu.edu (www.cs.jhu.edu)... 128.220.13.64\n",
            "Connecting to www.cs.jhu.edu (www.cs.jhu.edu)|128.220.13.64|:443... connected.\n",
            "HTTP request sent, awaiting response... 200 OK\n",
            "Length: 30586147 (29M) [application/x-gzip]\n",
            "Saving to: ‘domain_sentiment_data.tar.gz’\n",
            "\n",
            "domain_sentiment_da 100%[===================>]  29.17M  49.2MB/s    in 0.6s    \n",
            "\n",
            "2022-08-25 06:47:41 (49.2 MB/s) - ‘domain_sentiment_data.tar.gz’ saved [30586147/30586147]\n",
            "\n",
            "sorted_data_acl/dvd/negative.review\n",
            "sorted_data_acl/dvd/unlabeled.review\n",
            "sorted_data_acl/dvd/positive.review\n",
            "sorted_data_acl/kitchen_&_housewares/negative.review\n",
            "sorted_data_acl/kitchen_&_housewares/unlabeled.review\n",
            "sorted_data_acl/kitchen_&_housewares/positive.review\n",
            "sorted_data_acl/books/negative.review\n",
            "sorted_data_acl/books/positive.review\n",
            "sorted_data_acl/electronics/negative.review\n",
            "sorted_data_acl/electronics/unlabeled.review\n",
            "sorted_data_acl/electronics/positive.review\n"
          ]
        }
      ],
      "source": [
        "# download and extract data\n",
        "\n",
        "\n",
        "# downloading the data\n",
        "!wget https://www.cs.jhu.edu/~mdredze/datasets/sentiment/domain_sentiment_data.tar.gz\n",
        "\n",
        "# extract the downloaded data\n",
        "!tar -xvf domain_sentiment_data.tar.gz"
      ]
    },
    {
      "cell_type": "code",
      "execution_count": 3,
      "metadata": {
        "id": "N0pNOLgSRwE4"
      },
      "outputs": [],
      "source": [
        "# create parsed directories\n",
        "! mkdir -p prepare/labeled\n",
        "! mkdir -p prepare/unlabeled\n",
        "! mkdir -p ready\n",
        "\n",
        "# add <root> tag to extracted data to prepare for parsing\n",
        "\n",
        "# DVD\n",
        "! { echo '<root>'; cat sorted_data_acl/dvd/negative.review; echo '</root>'; } > prepare/labeled/dvd_negative.xml\n",
        "! { echo '<root>'; cat sorted_data_acl/dvd/positive.review; echo '</root>'; } > prepare/labeled/dvd_positive.xml\n",
        "\n",
        "# Kitchen\n",
        "! { echo '<root>'; cat sorted_data_acl/\"kitchen_&_housewares\"/negative.review; echo '</root>'; } > prepare/labeled/kitchen_negative.xml\n",
        "! { echo '<root>'; cat sorted_data_acl/\"kitchen_&_housewares\"/positive.review; echo '</root>'; } > prepare/labeled/kitchen_positive.xml\n",
        "\n",
        "# books\n",
        "! { echo '<root>'; cat sorted_data_acl/books/negative.review; echo '</root>'; } > prepare/labeled/books_negative.xml\n",
        "! { echo '<root>'; cat sorted_data_acl/books/positive.review; echo '</root>'; } > prepare/labeled/books_positive.xml\n",
        "\n",
        "# electronics\n",
        "! { echo '<root>'; cat sorted_data_acl/electronics/negative.review; echo '</root>'; } > prepare/labeled/electronics_negative.xml\n",
        "! { echo '<root>'; cat sorted_data_acl/electronics/positive.review; echo '</root>'; } > prepare/labeled/electronics_positive.xml\n",
        "\n",
        "\n",
        "# unlabeled data\n",
        "! { echo '<root>'; cat sorted_data_acl/dvd/unlabeled.review; echo '</root>'; } > prepare/unlabeled/dvd_unlabeled.xml\n",
        "! { echo '<root>'; cat sorted_data_acl/\"kitchen_&_housewares\"/unlabeled.review; echo '</root>'; } > prepare/unlabeled/kitchen_unlabeled.xml\n",
        "! { echo '<root>'; cat sorted_data_acl/electronics/unlabeled.review; echo '</root>'; } > prepare/unlabeled/electronics_unlabeled.xml\n"
      ]
    },
    {
      "cell_type": "code",
      "execution_count": 4,
      "metadata": {
        "id": "-x8uQA9tU_Sn"
      },
      "outputs": [],
      "source": [
        "import xml.etree.ElementTree as ET\n",
        "from lxml import etree\n",
        "import csv\n",
        "\n",
        "\n",
        "class DataParser:\n",
        "  \"\"\"Data parser class to parse xml and dump to csv\"\"\"\n",
        "  \n",
        "  # base directory where prepared data exists for parsing\n",
        "  base_dir = './prepare/labeled'\n",
        "\n",
        "\n",
        "  # target is 1 for positive and 0 for negative\n",
        "  fields = ['product_name', 'product_type', 'rating', 'title', 'review_text', 'target']\n",
        "\n",
        "  # product types\n",
        "  product_types = ['books', 'dvd', 'electronics', 'kitchen']\n",
        "\n",
        "  # review types\n",
        "  review_types = ['positive', 'negative']\n",
        "\n",
        "  def __init__(self):\n",
        "    pass\n",
        "\n",
        "\n",
        "  def parse_and_dump(self):\n",
        "    # parse and dump books\n",
        "    self.parser()\n",
        "\n",
        "\n",
        "\n",
        "  def parser(self):\n",
        "    # iterate through different product and review types\n",
        "    for product in self.product_types:\n",
        "        data = self.parse_xml(product)\n",
        "        self.csv_exporter(product, data)\n",
        "        \n",
        "\n",
        "  def parse_xml(self, product):\n",
        "      parsed_reviews = []\n",
        "      parser = etree.XMLParser(recover=True)\n",
        "      for review_type in self.review_types:\n",
        "        mytree = ET.parse(f'{self.base_dir}/{product}_{review_type}.xml', parser=parser)\n",
        "        myroot = mytree.getroot()\n",
        "        for e in myroot:\n",
        "          data = {}\n",
        "          for x in e:\n",
        "            # add only required fields\n",
        "            if x.tag in self.fields:\n",
        "              data[x.tag] = str(x.text).strip()\n",
        "            if review_type == 'positive':\n",
        "              data['target'] = 1\n",
        "            else:\n",
        "              data['target'] = 0\n",
        "          parsed_reviews.append(data)\n",
        "      return parsed_reviews\n",
        "\n",
        "  \n",
        "  def csv_exporter(self, product, data):\n",
        "    with open(f\"ready/{product}.csv\", 'w') as csvFile:\n",
        "          wr = csv.DictWriter(csvFile, fieldnames=self.fields)\n",
        "          wr.writeheader()\n",
        "          for ele in data:\n",
        "              wr.writerow(ele)\n",
        "\n",
        "\n",
        "  "
      ]
    },
    {
      "cell_type": "code",
      "execution_count": 5,
      "metadata": {
        "id": "nFQUzmSxSxqv"
      },
      "outputs": [],
      "source": [
        "# parse and dump data in './ready' directory\n",
        "\n",
        "dp = DataParser()\n",
        "dp.parse_and_dump()"
      ]
    },
    {
      "cell_type": "code",
      "execution_count": 6,
      "metadata": {
        "id": "BplCcTpQn8P9"
      },
      "outputs": [],
      "source": [
        "# combine all ready data in a single file\n",
        "books = 'ready/books.csv'\n",
        "dvd = 'ready/dvd.csv'\n",
        "electronics = 'ready/electronics.csv'\n",
        "kitchen = 'ready/kitchen.csv'"
      ]
    },
    {
      "cell_type": "code",
      "execution_count": 7,
      "metadata": {
        "colab": {
          "base_uri": "https://localhost:8080/"
        },
        "id": "ynCdUc1PTXlX",
        "outputId": "b13337d0-b562-451a-83e7-5d3aeb35cd84"
      },
      "outputs": [
        {
          "output_type": "stream",
          "name": "stdout",
          "text": [
            "*** Merging multiple csv files into a single pandas dataframe ***\n",
            "                                           product_name         product_type  rating                                              title                                        review_text  target\n",
            "0                       Sphere: Books: Michael Crichton                books     5.0                    One of the best Crichton novels  Sphere by Michael Crichton is an excellant nov...       1\n",
            "1     Healing from the Heart: A Leading Surgeon Comb...                books     4.0                         The Medicine of the Future  Dr. Oz is an accomplished heart surgeon in the...       1\n",
            "2     Mythology: DC Comics Art of Alex Ross 2007 Cal...                books     5.0                                         Beautiful!  The most gorgeous artwork in comic books. Cont...       1\n",
            "3     Pegasus Descending: A Dave Robicheaux Novel (D...                books     4.0                           For lovers of Robicheaux  This book is for lovers of Robicheaux.  His de...       1\n",
            "4     Guns, Germs, and Steel: The Fates of Human Soc...                books     5.0  Excellent and broad survey of the development ...  This is going to be a short and sweet review b...       1\n",
            "...                                                 ...                  ...     ...                                                ...                                                ...     ...\n",
            "7995  CDN DTP392 Digital Probe Thermometer: Kitchen ...  kitchen  housewares     1.0                                       Bad Product!  This thermometer lasted about a month before g...       0\n",
            "7996  Vornado 530B 3 Speed Compact Air Circulator, B...  kitchen  housewares     1.0                                       Disappointed  Bought my first Vornado years ago, and is the ...       0\n",
            "7997  Vornado 530B 3 Speed Compact Air Circulator, B...  kitchen  housewares     2.0                                       Very Average  More money then its worth.  Makes alot of nois...       0\n",
            "7998  OXO Good Grips Trigger Ice Cream Scoop: Kitche...  kitchen  housewares     1.0  I love OXO products but this was a huge disapp...  Mine broke on the 3rd use!  No need to say any...       0\n",
            "7999  Remanufactured iRobot Roomba 4100/4300 Intelli...  kitchen  housewares     2.0                                      Don't buy it!  Worked great the first couple of times.  I did...       0\n",
            "\n",
            "[8000 rows x 6 columns]\n"
          ]
        }
      ],
      "source": [
        "# load data for model training\n",
        "\n",
        "\n",
        "import pandas as pd\n",
        "\n",
        "# set this option on pd to print readable df\n",
        "pd.set_option('expand_frame_repr', False)\n",
        "\n",
        "\n",
        "print(\"*** Merging multiple csv files into a single pandas dataframe ***\")\n",
        "df = pd.concat(map(pd.read_csv, [books, dvd, electronics, kitchen ]), ignore_index=True)\n",
        "print(df)"
      ]
    },
    {
      "cell_type": "code",
      "execution_count": null,
      "metadata": {
        "id": "QILKVelgcdXC"
      },
      "outputs": [],
      "source": [
        "# train tensorflow model"
      ]
    },
    {
      "cell_type": "code",
      "execution_count": 8,
      "metadata": {
        "colab": {
          "base_uri": "https://localhost:8080/",
          "height": 206
        },
        "id": "hKoE8kv8zXlD",
        "outputId": "527af200-3e3f-4b7c-f8fc-6c525dc232ac"
      },
      "outputs": [
        {
          "output_type": "execute_result",
          "data": {
            "text/plain": [
              "   target                                        review_text\n",
              "0       1  Sphere by Michael Crichton is an excellant nov...\n",
              "1       1  Dr. Oz is an accomplished heart surgeon in the...\n",
              "2       1  The most gorgeous artwork in comic books. Cont...\n",
              "3       1  This book is for lovers of Robicheaux.  His de...\n",
              "4       1  This is going to be a short and sweet review b..."
            ],
            "text/html": [
              "\n",
              "  <div id=\"df-a9e5adf0-6254-468c-a8ff-186cfd5770ef\">\n",
              "    <div class=\"colab-df-container\">\n",
              "      <div>\n",
              "<style scoped>\n",
              "    .dataframe tbody tr th:only-of-type {\n",
              "        vertical-align: middle;\n",
              "    }\n",
              "\n",
              "    .dataframe tbody tr th {\n",
              "        vertical-align: top;\n",
              "    }\n",
              "\n",
              "    .dataframe thead th {\n",
              "        text-align: right;\n",
              "    }\n",
              "</style>\n",
              "<table border=\"1\" class=\"dataframe\">\n",
              "  <thead>\n",
              "    <tr style=\"text-align: right;\">\n",
              "      <th></th>\n",
              "      <th>target</th>\n",
              "      <th>review_text</th>\n",
              "    </tr>\n",
              "  </thead>\n",
              "  <tbody>\n",
              "    <tr>\n",
              "      <th>0</th>\n",
              "      <td>1</td>\n",
              "      <td>Sphere by Michael Crichton is an excellant nov...</td>\n",
              "    </tr>\n",
              "    <tr>\n",
              "      <th>1</th>\n",
              "      <td>1</td>\n",
              "      <td>Dr. Oz is an accomplished heart surgeon in the...</td>\n",
              "    </tr>\n",
              "    <tr>\n",
              "      <th>2</th>\n",
              "      <td>1</td>\n",
              "      <td>The most gorgeous artwork in comic books. Cont...</td>\n",
              "    </tr>\n",
              "    <tr>\n",
              "      <th>3</th>\n",
              "      <td>1</td>\n",
              "      <td>This book is for lovers of Robicheaux.  His de...</td>\n",
              "    </tr>\n",
              "    <tr>\n",
              "      <th>4</th>\n",
              "      <td>1</td>\n",
              "      <td>This is going to be a short and sweet review b...</td>\n",
              "    </tr>\n",
              "  </tbody>\n",
              "</table>\n",
              "</div>\n",
              "      <button class=\"colab-df-convert\" onclick=\"convertToInteractive('df-a9e5adf0-6254-468c-a8ff-186cfd5770ef')\"\n",
              "              title=\"Convert this dataframe to an interactive table.\"\n",
              "              style=\"display:none;\">\n",
              "        \n",
              "  <svg xmlns=\"http://www.w3.org/2000/svg\" height=\"24px\"viewBox=\"0 0 24 24\"\n",
              "       width=\"24px\">\n",
              "    <path d=\"M0 0h24v24H0V0z\" fill=\"none\"/>\n",
              "    <path d=\"M18.56 5.44l.94 2.06.94-2.06 2.06-.94-2.06-.94-.94-2.06-.94 2.06-2.06.94zm-11 1L8.5 8.5l.94-2.06 2.06-.94-2.06-.94L8.5 2.5l-.94 2.06-2.06.94zm10 10l.94 2.06.94-2.06 2.06-.94-2.06-.94-.94-2.06-.94 2.06-2.06.94z\"/><path d=\"M17.41 7.96l-1.37-1.37c-.4-.4-.92-.59-1.43-.59-.52 0-1.04.2-1.43.59L10.3 9.45l-7.72 7.72c-.78.78-.78 2.05 0 2.83L4 21.41c.39.39.9.59 1.41.59.51 0 1.02-.2 1.41-.59l7.78-7.78 2.81-2.81c.8-.78.8-2.07 0-2.86zM5.41 20L4 18.59l7.72-7.72 1.47 1.35L5.41 20z\"/>\n",
              "  </svg>\n",
              "      </button>\n",
              "      \n",
              "  <style>\n",
              "    .colab-df-container {\n",
              "      display:flex;\n",
              "      flex-wrap:wrap;\n",
              "      gap: 12px;\n",
              "    }\n",
              "\n",
              "    .colab-df-convert {\n",
              "      background-color: #E8F0FE;\n",
              "      border: none;\n",
              "      border-radius: 50%;\n",
              "      cursor: pointer;\n",
              "      display: none;\n",
              "      fill: #1967D2;\n",
              "      height: 32px;\n",
              "      padding: 0 0 0 0;\n",
              "      width: 32px;\n",
              "    }\n",
              "\n",
              "    .colab-df-convert:hover {\n",
              "      background-color: #E2EBFA;\n",
              "      box-shadow: 0px 1px 2px rgba(60, 64, 67, 0.3), 0px 1px 3px 1px rgba(60, 64, 67, 0.15);\n",
              "      fill: #174EA6;\n",
              "    }\n",
              "\n",
              "    [theme=dark] .colab-df-convert {\n",
              "      background-color: #3B4455;\n",
              "      fill: #D2E3FC;\n",
              "    }\n",
              "\n",
              "    [theme=dark] .colab-df-convert:hover {\n",
              "      background-color: #434B5C;\n",
              "      box-shadow: 0px 1px 3px 1px rgba(0, 0, 0, 0.15);\n",
              "      filter: drop-shadow(0px 1px 2px rgba(0, 0, 0, 0.3));\n",
              "      fill: #FFFFFF;\n",
              "    }\n",
              "  </style>\n",
              "\n",
              "      <script>\n",
              "        const buttonEl =\n",
              "          document.querySelector('#df-a9e5adf0-6254-468c-a8ff-186cfd5770ef button.colab-df-convert');\n",
              "        buttonEl.style.display =\n",
              "          google.colab.kernel.accessAllowed ? 'block' : 'none';\n",
              "\n",
              "        async function convertToInteractive(key) {\n",
              "          const element = document.querySelector('#df-a9e5adf0-6254-468c-a8ff-186cfd5770ef');\n",
              "          const dataTable =\n",
              "            await google.colab.kernel.invokeFunction('convertToInteractive',\n",
              "                                                     [key], {});\n",
              "          if (!dataTable) return;\n",
              "\n",
              "          const docLinkHtml = 'Like what you see? Visit the ' +\n",
              "            '<a target=\"_blank\" href=https://colab.research.google.com/notebooks/data_table.ipynb>data table notebook</a>'\n",
              "            + ' to learn more about interactive tables.';\n",
              "          element.innerHTML = '';\n",
              "          dataTable['output_type'] = 'display_data';\n",
              "          await google.colab.output.renderOutput(dataTable, element);\n",
              "          const docLink = document.createElement('div');\n",
              "          docLink.innerHTML = docLinkHtml;\n",
              "          element.appendChild(docLink);\n",
              "        }\n",
              "      </script>\n",
              "    </div>\n",
              "  </div>\n",
              "  "
            ]
          },
          "metadata": {},
          "execution_count": 8
        }
      ],
      "source": [
        "import tensorflow as tf\n",
        "import tensorflow_hub as hub\n",
        "\n",
        "\n",
        "labeled_data = df[['target', 'review_text']]\n",
        "labeled_data.head()"
      ]
    },
    {
      "cell_type": "code",
      "execution_count": 9,
      "metadata": {
        "colab": {
          "base_uri": "https://localhost:8080/"
        },
        "id": "bEE1HdRezYPX",
        "outputId": "3531a8a5-61e2-4255-be5c-c3be017ec218"
      },
      "outputs": [
        {
          "output_type": "stream",
          "name": "stdout",
          "text": [
            "Negative Reviews: 4000\n",
            "Positive Reviews: 4000\n"
          ]
        }
      ],
      "source": [
        "# The dataset description says there is a neutral label but there are no neutral labels in the dataset\n",
        "print('Negative Reviews:',len(labeled_data[labeled_data['target']==0]))\n",
        "print('Positive Reviews:',len(labeled_data[labeled_data['target']==1]))"
      ]
    },
    {
      "cell_type": "code",
      "execution_count": 10,
      "metadata": {
        "id": "1yNpqLJDzz2D"
      },
      "outputs": [],
      "source": [
        "# create random train dataframe, with 80% of the data, test set with the remaining 20%\n",
        "train = labeled_data.sample(frac=0.8) \n",
        "test = labeled_data.drop(train.index)\n",
        "\n",
        "# turn columns into numpy arrays to use as inputs for training\n",
        "train_examples, train_labels = train['review_text'].values, train['target'].values\n",
        "test_examples, test_labels = test['review_text'].values, test['target'].values"
      ]
    },
    {
      "cell_type": "code",
      "execution_count": 11,
      "metadata": {
        "colab": {
          "base_uri": "https://localhost:8080/"
        },
        "id": "hy2FNAhtz7LZ",
        "outputId": "1e63985e-1bc3-4576-9c05-d56cf15ff7f6"
      },
      "outputs": [
        {
          "output_type": "execute_result",
          "data": {
            "text/plain": [
              "<tf.Tensor: shape=(1, 128), dtype=float32, numpy=\n",
              "array([[ 0.9894387 , -0.13895369,  0.20694721,  0.3476952 ,  0.08205836,\n",
              "         0.03318814, -0.10100166, -0.02019348, -0.0884309 ,  0.4473196 ,\n",
              "        -0.18280724, -0.28304207, -0.2574064 , -0.10029839, -0.16220862,\n",
              "        -0.22716531, -0.04393406,  0.17203282, -0.13574089,  0.5695591 ,\n",
              "         0.11139803,  0.17283437, -0.01684018, -0.09447124, -0.01493091,\n",
              "        -0.22394672,  0.12286413,  0.04935203, -0.03629807, -0.14911467,\n",
              "        -0.04904773,  0.07640599, -0.0572969 , -0.10991931,  0.2583145 ,\n",
              "        -0.02208538, -0.03613434, -0.22565712,  0.0671861 ,  0.29124308,\n",
              "        -0.02639124, -0.19714808, -0.26158562, -0.27005517,  0.12638772,\n",
              "         0.20861793,  0.1279293 ,  0.20801377,  0.10516114,  0.05492086,\n",
              "         0.09950738, -0.04922765,  0.21371669,  0.20757647, -0.21912375,\n",
              "         0.02639686,  0.08509202, -0.27961087,  0.08701593,  0.06916428,\n",
              "        -0.25699392,  0.15025622,  0.17221501, -0.11017065,  0.04174416,\n",
              "         0.13051605, -0.05418948, -0.39654234,  0.3707621 ,  0.00752459,\n",
              "        -0.12027548, -0.01442308, -0.03748229, -0.23500739,  0.04896693,\n",
              "         0.27719355, -0.23279165, -0.23265567,  0.0753791 ,  0.05128313,\n",
              "         0.08812655,  0.11127247,  0.10359821, -0.08553436,  0.08403146,\n",
              "         0.0049345 , -0.33577812,  0.29592508,  0.5718557 ,  0.58536416,\n",
              "        -0.04924292,  0.20871073, -0.11019523, -0.38640556,  0.24225402,\n",
              "         0.01329558,  0.06016001,  0.06125578, -0.00503502,  0.05149546,\n",
              "         0.09561069,  0.05032289,  0.42250654,  0.24959771,  0.00385734,\n",
              "        -0.02946747, -0.2561823 ,  0.4669427 , -0.31408805, -0.01553153,\n",
              "         0.03592936,  0.02101179,  0.04674494,  0.02238288,  0.02608631,\n",
              "        -0.10954953,  0.02560012, -0.2372894 , -0.07083828, -0.00527516,\n",
              "        -0.09821756, -0.2829738 , -0.05075809, -0.24590456, -0.2094751 ,\n",
              "        -0.4680769 ,  0.06404275,  0.0826972 ]], dtype=float32)>"
            ]
          },
          "metadata": {},
          "execution_count": 11
        }
      ],
      "source": [
        "# set up a directory for tensorflow hub downloads\n",
        "import os\n",
        "os.environ['TFHUB_CACHE_DIR'] = r'./tf_modules'\n",
        "\n",
        "# we need to \"tokenize\" our inputs, convert our abstracts into numerical values\n",
        "# use the tokenization model below, on tensorflow hub\n",
        "model = \"https://tfhub.dev/google/nnlm-en-dim128-with-normalization/2\"\n",
        "hub_layer = hub.KerasLayer(model, input_shape=[], dtype=tf.string, trainable=True)\n",
        "\n",
        "# example of tokenization of an abstract\n",
        "hub_layer(train_examples[0:1])"
      ]
    },
    {
      "cell_type": "code",
      "execution_count": 12,
      "metadata": {
        "colab": {
          "base_uri": "https://localhost:8080/"
        },
        "id": "qh4PFJ-J0ILW",
        "outputId": "6eb47d60-6adc-4691-aef4-29d8c411a542"
      },
      "outputs": [
        {
          "output_type": "stream",
          "name": "stdout",
          "text": [
            "Model: \"sequential\"\n",
            "_________________________________________________________________\n",
            " Layer (type)                Output Shape              Param #   \n",
            "=================================================================\n",
            " keras_layer (KerasLayer)    (None, 128)               124642688 \n",
            "                                                                 \n",
            " dense (Dense)               (None, 16)                2064      \n",
            "                                                                 \n",
            " dense_1 (Dense)             (None, 8)                 136       \n",
            "                                                                 \n",
            " dense_2 (Dense)             (None, 1)                 9         \n",
            "                                                                 \n",
            "=================================================================\n",
            "Total params: 124,644,897\n",
            "Trainable params: 124,644,897\n",
            "Non-trainable params: 0\n",
            "_________________________________________________________________\n"
          ]
        }
      ],
      "source": [
        "# create a Sequential neural network\n",
        "model = tf.keras.Sequential()\n",
        "model.add(hub_layer) # add tokenization layer\n",
        "model.add(tf.keras.layers.Dense(16, activation='relu')) # create hidden layer with 16 nodes\n",
        "model.add(tf.keras.layers.Dense(8, activation='relu')) # create hidden layer with 8 nodes\n",
        "model.add(tf.keras.layers.Dense(1, activation='sigmoid')) # output layer, 1 node, sigmoid, for binary classification\n",
        "model.summary()"
      ]
    },
    {
      "cell_type": "code",
      "execution_count": 13,
      "metadata": {
        "id": "ogqbK2_u0MJC",
        "colab": {
          "base_uri": "https://localhost:8080/"
        },
        "outputId": "1c698a00-0e65-402b-8a8e-ddab11804422"
      },
      "outputs": [
        {
          "output_type": "execute_result",
          "data": {
            "text/plain": [
              "{'name': 'Adam',\n",
              " 'learning_rate': 0.001,\n",
              " 'decay': 0.0,\n",
              " 'beta_1': 0.9,\n",
              " 'beta_2': 0.999,\n",
              " 'epsilon': 1e-07,\n",
              " 'amsgrad': False}"
            ]
          },
          "metadata": {},
          "execution_count": 13
        }
      ],
      "source": [
        "# compile model, designed for binary classification\n",
        "model.compile(optimizer='adam',\n",
        "              loss=tf.losses.BinaryCrossentropy(from_logits=True),\n",
        "              metrics=[tf.metrics.BinaryAccuracy(threshold=0.5, name='accuracy')])\n",
        "model.optimizer.get_config()"
      ]
    },
    {
      "cell_type": "code",
      "execution_count": 14,
      "metadata": {
        "colab": {
          "base_uri": "https://localhost:8080/"
        },
        "id": "U81h0VmI0Onq",
        "outputId": "4c13cb21-ce17-45c6-be50-139e27e47149"
      },
      "outputs": [
        {
          "output_type": "stream",
          "name": "stdout",
          "text": [
            "1000 5400\n"
          ]
        }
      ],
      "source": [
        "# set aside some of the example datapoints for validation during training\n",
        "x_val = train_examples[:1000]\n",
        "partial_x_train = train_examples[1000:]\n",
        "\n",
        "y_val = train_labels[:1000]\n",
        "partial_y_train = train_labels[1000:]\n",
        "\n",
        "print(len(x_val), len(partial_x_train))"
      ]
    },
    {
      "cell_type": "code",
      "execution_count": 15,
      "metadata": {
        "colab": {
          "base_uri": "https://localhost:8080/"
        },
        "id": "W5UiIIVy0Wkz",
        "outputId": "82d93d08-8579-460d-df60-7a7be69e8943"
      },
      "outputs": [
        {
          "output_type": "stream",
          "name": "stdout",
          "text": [
            "Epoch 1/5\n"
          ]
        },
        {
          "output_type": "stream",
          "name": "stderr",
          "text": [
            "/usr/local/lib/python3.7/dist-packages/tensorflow/python/util/dispatch.py:1082: UserWarning: \"`binary_crossentropy` received `from_logits=True`, but the `output` argument was produced by a sigmoid or softmax activation and thus does not represent logits. Was this intended?\"\n",
            "  return dispatch_target(*args, **kwargs)\n"
          ]
        },
        {
          "output_type": "stream",
          "name": "stdout",
          "text": [
            "85/85 [==============================] - 122s 1s/step - loss: 0.6480 - accuracy: 0.6417 - val_loss: 0.5252 - val_accuracy: 0.7770\n",
            "Epoch 2/5\n",
            "85/85 [==============================] - 114s 1s/step - loss: 0.3409 - accuracy: 0.8731 - val_loss: 0.3992 - val_accuracy: 0.8280\n",
            "Epoch 3/5\n",
            "85/85 [==============================] - 115s 1s/step - loss: 0.1261 - accuracy: 0.9628 - val_loss: 0.4394 - val_accuracy: 0.8130\n",
            "Epoch 4/5\n",
            "85/85 [==============================] - 114s 1s/step - loss: 0.0512 - accuracy: 0.9898 - val_loss: 0.5036 - val_accuracy: 0.8090\n",
            "Epoch 5/5\n",
            "85/85 [==============================] - 115s 1s/step - loss: 0.0227 - accuracy: 0.9965 - val_loss: 0.5860 - val_accuracy: 0.8080\n"
          ]
        }
      ],
      "source": [
        "# train the model\n",
        "history = model.fit(partial_x_train,\n",
        "                    partial_y_train,\n",
        "                    epochs=5,\n",
        "                    batch_size=64,\n",
        "                    validation_data=(x_val, y_val),\n",
        "                    verbose=1)"
      ]
    },
    {
      "cell_type": "code",
      "execution_count": 16,
      "metadata": {
        "id": "WkZV_uTx0arz",
        "colab": {
          "base_uri": "https://localhost:8080/"
        },
        "outputId": "601c1963-3400-423a-854c-e72c1acae54d"
      },
      "outputs": [
        {
          "output_type": "stream",
          "name": "stdout",
          "text": [
            "50/50 [==============================] - 8s 166ms/step - loss: 0.5515 - accuracy: 0.8188\n",
            "[0.5514793992042542, 0.8187500238418579]\n"
          ]
        }
      ],
      "source": [
        "# evaluate performance on test set\n",
        "results = model.evaluate(test_examples, test_labels)\n",
        "print(results)"
      ]
    },
    {
      "cell_type": "code",
      "execution_count": 17,
      "metadata": {
        "id": "39hAxhLQ0fCD",
        "colab": {
          "base_uri": "https://localhost:8080/",
          "height": 295
        },
        "outputId": "c58885c7-d48e-452a-8fdb-674e35375cd7"
      },
      "outputs": [
        {
          "output_type": "display_data",
          "data": {
            "text/plain": [
              "<Figure size 432x288 with 2 Axes>"
            ],
            "image/png": "[encoded data removed]"
          },
          "metadata": {
            "needs_background": "light"
          }
        }
      ],
      "source": [
        "# visualize perfomance with a confusion matrix\n",
        "import matplotlib.pyplot as plt\n",
        "import seaborn as sns\n",
        "\n",
        "predictions = (model.predict(test_examples) > 0.5).astype(\"int32\")\n",
        "predictions = [p[0] for p in predictions]\n",
        "confusion_matrix = tf.math.confusion_matrix(test_labels, predictions)\n",
        "\n",
        "ax = plt.axes()\n",
        "sns.heatmap(confusion_matrix, cmap='flare', annot=True, fmt=\"d\", ax = ax)\n",
        "ax.set_title('Tensorflow NLP Model: Confusion Matrix')\n",
        "ax.set_xlabel('Predicted Label')\n",
        "ax.set_ylabel('True Label')\n",
        "plt.show()\n"
      ]
    },
    {
      "cell_type": "code",
      "execution_count": 18,
      "metadata": {
        "id": "n7h6cKDF0mSC"
      },
      "outputs": [],
      "source": [
        "## save our model for future use, so we don't have to retrain each time\n",
        "model.save(r'saved_model.h5')"
      ]
    },
    {
      "cell_type": "markdown",
      "source": [
        "SECTION 2: Test the saved model"
      ],
      "metadata": {
        "id": "a9eUPU3HHjmB"
      }
    },
    {
      "cell_type": "code",
      "execution_count": 19,
      "metadata": {
        "id": "q0Ff6Lx-01R4"
      },
      "outputs": [],
      "source": [
        "loaded_model = tf.keras.models.load_model(r'saved_model.h5', custom_objects={'KerasLayer': hub.KerasLayer})\n"
      ]
    },
    {
      "cell_type": "code",
      "execution_count": null,
      "metadata": {
        "id": "prLgmBbE1sBO"
      },
      "outputs": [],
      "source": [
        "input_text = input('Enter text to do analysis on?\\n')"
      ]
    },
    {
      "cell_type": "code",
      "execution_count": null,
      "metadata": {
        "id": "qmavkp4C1Dpu"
      },
      "outputs": [],
      "source": [
        "prediction = model.predict([input_text])\n",
        "print(prediction)"
      ]
    },
    {
      "cell_type": "code",
      "execution_count": null,
      "metadata": {
        "id": "5clHCerq1Xff"
      },
      "outputs": [],
      "source": [
        "tensor_flow = (prediction > 0.5).astype(\"int32\")[0][0]"
      ]
    },
    {
      "cell_type": "code",
      "execution_count": null,
      "metadata": {
        "id": "m55LSAiP1hdo"
      },
      "outputs": [],
      "source": [
        "if tensor_flow == 1:\n",
        "      tensor_flow = 'positive'\n",
        "else:\n",
        "      tensor_flow = 'negative'\n",
        "print(tensor_flow)"
      ]
    },
    {
      "cell_type": "markdown",
      "source": [
        "SECTION 3: Setup and serve the REST API"
      ],
      "metadata": {
        "id": "OykXxgsxIj_B"
      }
    },
    {
      "cell_type": "code",
      "execution_count": 20,
      "metadata": {
        "colab": {
          "base_uri": "https://localhost:8080/"
        },
        "id": "4OFlX9nj1jJV",
        "outputId": "bc0323e9-d926-4ff0-e857-85e08a425123"
      },
      "outputs": [
        {
          "output_type": "stream",
          "name": "stdout",
          "text": [
            "Looking in indexes: https://pypi.org/simple, https://us-python.pkg.dev/colab-wheels/public/simple/\n",
            "Requirement already satisfied: flask in /usr/local/lib/python3.7/dist-packages (1.1.4)\n",
            "Requirement already satisfied: click<8.0,>=5.1 in /usr/local/lib/python3.7/dist-packages (from flask) (7.1.2)\n",
            "Requirement already satisfied: Jinja2<3.0,>=2.10.1 in /usr/local/lib/python3.7/dist-packages (from flask) (2.11.3)\n",
            "Requirement already satisfied: itsdangerous<2.0,>=0.24 in /usr/local/lib/python3.7/dist-packages (from flask) (1.1.0)\n",
            "Requirement already satisfied: Werkzeug<2.0,>=0.15 in /usr/local/lib/python3.7/dist-packages (from flask) (1.0.1)\n",
            "Requirement already satisfied: MarkupSafe>=0.23 in /usr/local/lib/python3.7/dist-packages (from Jinja2<3.0,>=2.10.1->flask) (2.0.1)\n",
            "Looking in indexes: https://pypi.org/simple, https://us-python.pkg.dev/colab-wheels/public/simple/\n",
            "Collecting flask_cors\n",
            "  Downloading Flask_Cors-3.0.10-py2.py3-none-any.whl (14 kB)\n",
            "Requirement already satisfied: Six in /usr/local/lib/python3.7/dist-packages (from flask_cors) (1.15.0)\n",
            "Requirement already satisfied: Flask>=0.9 in /usr/local/lib/python3.7/dist-packages (from flask_cors) (1.1.4)\n",
            "Requirement already satisfied: itsdangerous<2.0,>=0.24 in /usr/local/lib/python3.7/dist-packages (from Flask>=0.9->flask_cors) (1.1.0)\n",
            "Requirement already satisfied: Jinja2<3.0,>=2.10.1 in /usr/local/lib/python3.7/dist-packages (from Flask>=0.9->flask_cors) (2.11.3)\n",
            "Requirement already satisfied: Werkzeug<2.0,>=0.15 in /usr/local/lib/python3.7/dist-packages (from Flask>=0.9->flask_cors) (1.0.1)\n",
            "Requirement already satisfied: click<8.0,>=5.1 in /usr/local/lib/python3.7/dist-packages (from Flask>=0.9->flask_cors) (7.1.2)\n",
            "Requirement already satisfied: MarkupSafe>=0.23 in /usr/local/lib/python3.7/dist-packages (from Jinja2<3.0,>=2.10.1->Flask>=0.9->flask_cors) (2.0.1)\n",
            "Installing collected packages: flask-cors\n",
            "Successfully installed flask-cors-3.0.10\n"
          ]
        }
      ],
      "source": [
        "# expose rest endpoint\n",
        "!pip install flask\n",
        "!pip install flask_cors"
      ]
    },
    {
      "cell_type": "code",
      "execution_count": 21,
      "metadata": {
        "id": "ECFg9a5A5VEh"
      },
      "outputs": [],
      "source": [
        "import flask\n",
        "from IPython import get_ipython"
      ]
    },
    {
      "cell_type": "code",
      "execution_count": 22,
      "metadata": {
        "id": "0POKR7tU5Y2D",
        "colab": {
          "base_uri": "https://localhost:8080/"
        },
        "outputId": "bcb8b3e6-1d75-4d70-f76d-1b7edfa0602c"
      },
      "outputs": [
        {
          "output_type": "stream",
          "name": "stdout",
          "text": [
            "--2022-08-25 07:00:30--  https://bin.equinox.io/c/4VmDzA7iaHb/ngrok-stable-linux-amd64.zip\n",
            "Resolving bin.equinox.io (bin.equinox.io)... 54.237.133.81, 52.202.168.65, 54.161.241.46, ...\n",
            "Connecting to bin.equinox.io (bin.equinox.io)|54.237.133.81|:443... connected.\n",
            "HTTP request sent, awaiting response... 200 OK\n",
            "Length: 13832437 (13M) [application/octet-stream]\n",
            "Saving to: ‘ngrok-stable-linux-amd64.zip’\n",
            "\n",
            "ngrok-stable-linux- 100%[===================>]  13.19M  57.4MB/s    in 0.2s    \n",
            "\n",
            "2022-08-25 07:00:30 (57.4 MB/s) - ‘ngrok-stable-linux-amd64.zip’ saved [13832437/13832437]\n",
            "\n",
            "Archive:  ngrok-stable-linux-amd64.zip\n",
            "  inflating: ngrok                   \n"
          ]
        }
      ],
      "source": [
        "!wget https://bin.equinox.io/c/4VmDzA7iaHb/ngrok-stable-linux-amd64.zip\n",
        "!unzip -o ngrok-stable-linux-amd64.zip"
      ]
    },
    {
      "cell_type": "code",
      "execution_count": 23,
      "metadata": {
        "id": "PoKc3FS486bC",
        "colab": {
          "base_uri": "https://localhost:8080/"
        },
        "outputId": "36644b0a-f4a1-4e8e-eef3-62ced31f8dfe"
      },
      "outputs": [
        {
          "output_type": "stream",
          "name": "stdout",
          "text": [
            "Authtoken saved to configuration file: /root/.ngrok2/ngrok.yml\n"
          ]
        }
      ],
      "source": [
        "! ./ngrok authtoken\t2DfR51VrEBPD7k0VZMRUBkUmuOY_48MWz448eRyaqqbDAuqfV"
      ]
    },
    {
      "cell_type": "code",
      "execution_count": 30,
      "metadata": {
        "id": "GzMxPHj75iWs"
      },
      "outputs": [],
      "source": [
        "get_ipython().system_raw('python3 app.py &')"
      ]
    },
    {
      "cell_type": "code",
      "execution_count": 34,
      "metadata": {
        "id": "oVnzQHmY5hOu"
      },
      "outputs": [],
      "source": [
        "get_ipython().system_raw('./ngrok http 5000 &')"
      ]
    },
    {
      "cell_type": "markdown",
      "source": [
        " Copy the output of the following curl request into the base_url variable (line 48) in the frontend"
      ],
      "metadata": {
        "id": "hltvpfK9M6up"
      }
    },
    {
      "cell_type": "code",
      "execution_count": 35,
      "metadata": {
        "colab": {
          "base_uri": "https://localhost:8080/"
        },
        "id": "IE6JyZnb5ZLM",
        "outputId": "87c8856c-8227-42df-927f-8e5377cfc94e"
      },
      "outputs": [
        {
          "output_type": "stream",
          "name": "stdout",
          "text": [
            "https://f41c-34-73-127-102.ngrok.io\n"
          ]
        }
      ],
      "source": [
        "! curl -s http://localhost:4040/api/tunnels | python3 -c \"import sys, json; print(json.load(sys.stdin)['tunnels'][0]['public_url'])\""
      ]
    },
    {
      "cell_type": "code",
      "execution_count": 31,
      "metadata": {
        "colab": {
          "base_uri": "https://localhost:8080/"
        },
        "id": "hh4lVIeIA1OU",
        "outputId": "a96cedb1-74e4-4a26-8dda-0b58c5eb700c"
      },
      "outputs": [
        {
          "output_type": "stream",
          "name": "stdout",
          "text": [
            "2022-08-25 07:20:51.690823: E tensorflow/stream_executor/cuda/cuda_driver.cc:271] failed call to cuInit: CUDA_ERROR_NO_DEVICE: no CUDA-capable device is detected\n",
            "2022-08-25 07:20:51.837262: W tensorflow/core/framework/cpu_allocator_impl.cc:82] Allocation of 498570752 exceeds 10% of free system memory.\n",
            "2022-08-25 07:20:58.236659: W tensorflow/core/framework/cpu_allocator_impl.cc:82] Allocation of 498570752 exceeds 10% of free system memory.\n",
            "2022-08-25 07:20:58.332091: W tensorflow/core/framework/cpu_allocator_impl.cc:82] Allocation of 498570752 exceeds 10% of free system memory.\n",
            " * Serving Flask app \"app\" (lazy loading)\n",
            " * Environment: production\n",
            "\u001b[31m   WARNING: This is a development server. Do not use it in a production deployment.\u001b[0m\n",
            "\u001b[2m   Use a production WSGI server instead.\u001b[0m\n",
            " * Debug mode: off\n",
            "Traceback (most recent call last):\n",
            "  File \"app.py\", line 51, in <module>\n",
            "    app.run(host='0.0.0.0', port=5000)\n",
            "  File \"/usr/local/lib/python3.7/dist-packages/flask/app.py\", line 990, in run\n",
            "    run_simple(host, port, self, **options)\n",
            "  File \"/usr/local/lib/python3.7/dist-packages/werkzeug/serving.py\", line 1052, in run_simple\n",
            "    inner()\n",
            "  File \"/usr/local/lib/python3.7/dist-packages/werkzeug/serving.py\", line 1005, in inner\n",
            "    fd=fd,\n",
            "  File \"/usr/local/lib/python3.7/dist-packages/werkzeug/serving.py\", line 848, in make_server\n",
            "    host, port, app, request_handler, passthrough_errors, ssl_context, fd=fd\n",
            "  File \"/usr/local/lib/python3.7/dist-packages/werkzeug/serving.py\", line 740, in __init__\n",
            "    HTTPServer.__init__(self, server_address, handler)\n",
            "  File \"/usr/lib/python3.7/socketserver.py\", line 452, in __init__\n",
            "    self.server_bind()\n",
            "  File \"/usr/lib/python3.7/http/server.py\", line 137, in server_bind\n",
            "    socketserver.TCPServer.server_bind(self)\n",
            "  File \"/usr/lib/python3.7/socketserver.py\", line 466, in server_bind\n",
            "    self.socket.bind(self.server_address)\n",
            "OSError: [Errno 98] Address already in use\n"
          ]
        }
      ],
      "source": [
        "! python3 app.py"
      ]
    },
    {
      "cell_type": "code",
      "execution_count": 32,
      "metadata": {
        "colab": {
          "base_uri": "https://localhost:8080/"
        },
        "id": "tH50ODo_59OL",
        "outputId": "c9019641-8f9c-45e6-a760-e368ffcc44a3"
      },
      "outputs": [
        {
          "output_type": "stream",
          "name": "stdout",
          "text": [
            "Welcome to Golab REST API"
          ]
        }
      ],
      "source": [
        "! curl  http://localhost:5000/"
      ]
    },
    {
      "cell_type": "markdown",
      "source": [
        "To restart server, first check PID of the python3 app.py and ./ngrok http 5000 processes"
      ],
      "metadata": {
        "id": "p4hHpqJjj4-e"
      }
    },
    {
      "cell_type": "code",
      "execution_count": null,
      "metadata": {
        "id": "T2eSGY9n62d5"
      },
      "outputs": [],
      "source": [
        "! ps -eaf "
      ]
    },
    {
      "cell_type": "code",
      "execution_count": null,
      "metadata": {
        "id": "8Zr6A_eI6XxG"
      },
      "outputs": [],
      "source": [
        "# Kill those processes using their PID\n",
        "! kill -9 1048 1053\n",
        "get_ipython().system_raw('python3 app.py &')\n",
        "get_ipython().system_raw('./ngrok http 5000 &')\n",
        "! curl -s http://localhost:4040/api/tunnels | python3 -c \"import sys, json; print(json.load(sys.stdin)['tunnels'][0]['public_url'])\"\n",
        "! python3 app.py"
      ]
    },
    {
      "cell_type": "markdown",
      "source": [
        "# If app.py is not present in project root directory (inside content folder on the machine), create new file named app.py and copy the following code into it."
      ],
      "metadata": {
        "id": "0-XFNjGde3kF"
      }
    },
    {
      "cell_type": "code",
      "execution_count": null,
      "metadata": {
        "id": "zemjkDXUCG1x"
      },
      "outputs": [],
      "source": [
        "from flask import Flask, make_response, jsonify, request\n",
        "import tensorflow as tf\n",
        "import tensorflow_hub as hub\n",
        "from flask_cors import CORS\n",
        "\n",
        "\n",
        "app = Flask(__name__)\n",
        "CORS(app)\n",
        "\n",
        "loaded_model = tf.keras.models.load_model(r'saved_model\\reviews_model.h5', custom_objects={'KerasLayer': hub.KerasLayer})\n",
        "\n",
        "\n",
        "@app.route('/')\n",
        "def index():\n",
        "    return \"Welcome to Golab REST API\"\n",
        "\n",
        "\n",
        "\n",
        "@app.route('/api/analyse', methods=['POST'])\n",
        "def analyse():\n",
        "    data = request.get_json()\n",
        "    resp = {}\n",
        "    \n",
        "\n",
        "    resp.update({\"length\": len(data['content'])})\n",
        "    resp.update({\"content\": data['content']})\n",
        "    \n",
        "    # add model here\n",
        "    prediction = loaded_model.predict([data['content']])\n",
        "    prediction = prediction[0][0].astype(\"float\")\n",
        "    prediction = round(prediction, 2)\n",
        "    resp.update({\"positive\": prediction})\n",
        "    resp.update({\"negative\": round(1 - prediction, 2)})\n",
        "    resp.update({\"prediction\": prediction})\n",
        "    if prediction < 0.4:\n",
        "      tensor_flow = 'negative'\n",
        "    elif prediction > 0.6:\n",
        "      tensor_flow = 'positive'\n",
        "    else:\n",
        "      tensor_flow = 'neutral'\n",
        "    \n",
        "    #this value is the thresh hold value beyound this we can determine if the sentiment is positive or not\n",
        "    resp.update({\"threshold\": 0.5})\n",
        "\n",
        "    resp.update({\"overall\": tensor_flow})\n",
        "    print(resp)\n",
        "    return jsonify(resp)\n",
        "    \n",
        "\n",
        "if __name__ == '__main__':\n",
        "      app.run(host='0.0.0.0', port=5000)"
      ]
    }
  ],
  "metadata": {
    "colab": {
      "collapsed_sections": [],
      "name": "SentimentAnalysis.ipynb",
      "provenance": []
    },
    "kernelspec": {
      "display_name": "Python 3",
      "name": "python3"
    },
    "language_info": {
      "name": "python"
    },
    "gpuClass": "standard"
  },
  "nbformat": 4,
  "nbformat_minor": 0
}